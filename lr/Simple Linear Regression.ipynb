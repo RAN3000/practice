{
 "cells": [
  {
   "cell_type": "code",
   "execution_count": 79,
   "metadata": {
    "collapsed": true
   },
   "outputs": [],
   "source": [
    "%matplotlib inline\n",
    "\n",
    "# import dependences\n",
    "import numpy as np\n",
    "from matplotlib import pyplot as plt"
   ]
  },
  {
   "cell_type": "code",
   "execution_count": 90,
   "metadata": {},
   "outputs": [
    {
     "data": {
      "image/png": "[encoded data removed]",
      "text/plain": [
       "<matplotlib.figure.Figure at 0x7f58d9aea1d0>"
      ]
     },
     "metadata": {},
     "output_type": "display_data"
    }
   ],
   "source": [
    "# import and plot data\n",
    "# first column: Brain weight, second column: Animal body weight\n",
    "filename = 'brain_body.txt'#'produzione.txt'\n",
    "\n",
    "D = np.loadtxt(filename, skiprows=1)\n",
    "\n",
    "with open(filename) as f:\n",
    "    labels = f.readline().split()\n",
    "    \n",
    "xs = D[:,0]\n",
    "ys = D[:,1]\n",
    "\n",
    "plt.scatter(xs, ys)\n",
    "plt.xlabel(labels[0])\n",
    "plt.ylabel(labels[1])\n",
    "plt.show()"
   ]
  },
  {
   "cell_type": "code",
   "execution_count": 94,
   "metadata": {
    "scrolled": true
   },
   "outputs": [
    {
     "name": "stdout",
     "output_type": "stream",
     "text": [
      "91.0043962074 0.966496367673\n"
     ]
    }
   ],
   "source": [
    "# line equation: y = beta_0 + beta_1 * x\n",
    "# find the line slope and intercept, returns beta_0_estimate, beta_1_estimate\n",
    "\n",
    "n = xs.size\n",
    "    \n",
    "# check if xs size and ys size are the same\n",
    "if (ys.size != n):\n",
    "    raise ValueError('x and y dimensions do not agree')\n",
    "\n",
    "x_bar = np.sum(xs) / n\n",
    "y_bar = np.sum(ys) / n\n",
    "\n",
    "S_xy = np.sum( (xs - x_bar) * (ys - y_bar) )\n",
    "S_xx = np.sum( (xs - x_bar)**2 )\n",
    "    \n",
    "beta_1_estimate = S_xy / S_xx\n",
    "beta_0_estimate = y_bar - beta_1_estimate * x_bar\n",
    "\n",
    "print(beta_0_estimate, beta_1_estimate)"
   ]
  },
  {
   "cell_type": "code",
   "execution_count": 95,
   "metadata": {},
   "outputs": [
    {
     "data": {
      "image/png": "[encoded data removed]",
      "text/plain": [
       "<matplotlib.figure.Figure at 0x7f58d97b7048>"
      ]
     },
     "metadata": {},
     "output_type": "display_data"
    }
   ],
   "source": [
    "# draw best-fit line\n",
    "plt.scatter(xs, ys)\n",
    "max_x = np.amax(xs)\n",
    "plt.plot([0, max_x], [beta_0_estimate, beta_0_estimate + beta_1_estimate*max_x], 'r-')\n",
    "\n",
    "plt.xlabel(labels[0])\n",
    "plt.ylabel(labels[1])\n",
    "plt.show()"
   ]
  },
  {
   "cell_type": "code",
   "execution_count": 96,
   "metadata": {},
   "outputs": [],
   "source": [
    "# estimated y\n",
    "y_cap = beta_0_estimate + beta_1_estimate*xs\n",
    "\n",
    "#degrees of freedom ( n - k - 1 , where k is the number of independent variables )\n",
    "df = n - 2\n",
    "\n",
    "# squared sums \n",
    "SSE = np.sum( (ys - y_cap)**2 )\n",
    "SSR = np.sum( (y_cap - y_bar)**2 )\n",
    "SST = SSE + SSR\n",
    "\n",
    "# R^2\n",
    "R_2 = SSR/SST\n",
    "\n",
    "# mean squares\n",
    "MSE = SSE / df\n",
    "MSR = SSR\n",
    "\n",
    "# statistica test for variance\n",
    "F0 = MSR / MSE\n",
    "\n",
    "# line variance\n",
    "sigma_2 = SSE / df\n",
    "\n",
    "# standard errors\n",
    "se_beta_0 = (sigma_2 * (1/n + x_bar**2 / S_xx))**(1/2)\n",
    "se_beta_1 = (sigma_2 / S_xx)**(1/2)\n",
    "\n",
    "# statistica test\n",
    "t_beta_0 = beta_0_estimate / se_beta_0\n",
    "t_beta_1 = beta_1_estimate / se_beta_1\n",
    "\n",
    "# generate random samples from a student-t distribution\n",
    "s = np.random.standard_t(df, 10000)\n",
    "\n",
    "p_beta_0 = 2 * np.sum(s > np.abs(t_beta_0)) / float(len(s))\n",
    "p_beta_1 = 2 * np.sum(s > np.abs(t_beta_1)) / float(len(s))"
   ]
  },
  {
   "cell_type": "code",
   "execution_count": 97,
   "metadata": {
    "scrolled": true
   },
   "outputs": [
    {
     "name": "stdout",
     "output_type": "stream",
     "text": [
      "----- BETA_0 -----\n",
      "Estimate:  91.0043962074\n",
      "Std. Error:  43.5525814971\n",
      "T0:  2.08952932477\n",
      "p-value:  0.0398\n",
      "\n",
      "\n",
      "\n",
      "----- BETA_1 -----\n",
      "Estimate:  0.966496367673\n",
      "Std. Error:  0.0476628948346\n",
      "T0:  20.2777521388\n",
      "p-value:  0.0\n",
      "\n",
      "\n",
      "\n",
      "----- ANOVA -----\n",
      "SSR:  46068314.479    MSR:  46068314.479\n",
      "SSE:  6722239.0555    MSE:  112037.317592\n",
      "SST:  52790553.5345\n",
      "F0:  411.187231801\n"
     ]
    }
   ],
   "source": [
    "# print results\n",
    "\n",
    "print('----- BETA_0 -----')\n",
    "print('Estimate: ', beta_0_estimate)\n",
    "print('Std. Error: ', se_beta_0)\n",
    "print('T0: ', t_beta_0)\n",
    "print('p-value: ', p_beta_0)\n",
    "\n",
    "print('\\n\\n')\n",
    "\n",
    "print('----- BETA_1 -----')\n",
    "print('Estimate: ', beta_1_estimate)\n",
    "print('Std. Error: ', se_beta_1)\n",
    "print('T0: ', t_beta_1)\n",
    "print('p-value: ', p_beta_1)\n",
    "\n",
    "print('\\n\\n')\n",
    "\n",
    "print('----- ANOVA -----')\n",
    "print('SSR: ', SSR, '   MSR: ', MSR)\n",
    "print('SSE: ', SSE, '   MSE: ', MSE)\n",
    "print('SST: ', SST)\n",
    "print('F0: ', F0)\n"
   ]
  }
 ],
 "metadata": {
  "kernelspec": {
   "display_name": "Python 3",
   "language": "python",
   "name": "python3"
  },
  "language_info": {
   "codemirror_mode": {
    "name": "ipython",
    "version": 3
   },
   "file_extension": ".py",
   "mimetype": "text/x-python",
   "name": "python",
   "nbconvert_exporter": "python",
   "pygments_lexer": "ipython3",
   "version": "3.5.2"
  }
 },
 "nbformat": 4,
 "nbformat_minor": 2
}
